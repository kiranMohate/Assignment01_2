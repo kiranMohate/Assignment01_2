{
 "cells": [
  {
   "cell_type": "code",
   "execution_count": 10,
   "id": "443230fc",
   "metadata": {},
   "outputs": [
    {
     "name": "stdout",
     "output_type": "stream",
     "text": [
      "Edyoda\n",
      "adoydE\n"
     ]
    }
   ],
   "source": [
    "input1 = input()\n",
    "print(input1[::-1])\n"
   ]
  },
  {
   "cell_type": "code",
   "execution_count": 1,
   "id": "f16a6810",
   "metadata": {},
   "outputs": [
    {
     "name": "stdout",
     "output_type": "stream",
     "text": [
      "Edyoda\n",
      "adoydE\n"
     ]
    }
   ],
   "source": [
    "string = input()\n",
    "rev=\"\"\n",
    "for i in string:\n",
    "    rev=i+rev\n",
    "print(rev)"
   ]
  },
  {
   "cell_type": "code",
   "execution_count": null,
   "id": "8be101f6",
   "metadata": {},
   "outputs": [],
   "source": []
  }
 ],
 "metadata": {
  "kernelspec": {
   "display_name": "Python 3",
   "language": "python",
   "name": "python3"
  },
  "language_info": {
   "codemirror_mode": {
    "name": "ipython",
    "version": 3
   },
   "file_extension": ".py",
   "mimetype": "text/x-python",
   "name": "python",
   "nbconvert_exporter": "python",
   "pygments_lexer": "ipython3",
   "version": "3.8.8"
  }
 },
 "nbformat": 4,
 "nbformat_minor": 5
}
